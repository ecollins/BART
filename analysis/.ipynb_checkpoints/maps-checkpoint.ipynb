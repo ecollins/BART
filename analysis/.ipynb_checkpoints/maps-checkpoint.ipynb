{
 "cells": [
  {
   "cell_type": "code",
   "execution_count": 3,
   "metadata": {},
   "outputs": [],
   "source": [
    "from importlib import reload\n",
    "import BART as bart\n",
    "import geocoding as geo"
   ]
  },
  {
   "cell_type": "code",
   "execution_count": 4,
   "metadata": {},
   "outputs": [
    {
     "ename": "NameError",
     "evalue": "name 'FILE' is not defined",
     "output_type": "error",
     "traceback": [
      "\u001b[0;31m---------------------------------------------------------------------------\u001b[0m",
      "\u001b[0;31mNameError\u001b[0m                                 Traceback (most recent call last)",
      "\u001b[0;32m<ipython-input-4-334e96e1afa1>\u001b[0m in \u001b[0;36m<module>\u001b[0;34m\u001b[0m\n\u001b[1;32m      5\u001b[0m \u001b[0;31m#~ Read & Prep Datasets\u001b[0m\u001b[0;34m\u001b[0m\u001b[0;34m\u001b[0m\u001b[0;34m\u001b[0m\u001b[0m\n\u001b[1;32m      6\u001b[0m \u001b[0mB\u001b[0m \u001b[0;34m=\u001b[0m \u001b[0mbart\u001b[0m\u001b[0;34m.\u001b[0m\u001b[0mride_data\u001b[0m\u001b[0;34m(\u001b[0m\u001b[0;34m\"../data/date-hour-soo-dest-2020.csv\"\u001b[0m\u001b[0;34m)\u001b[0m\u001b[0;34m\u001b[0m\u001b[0;34m\u001b[0m\u001b[0m\n\u001b[0;32m----> 7\u001b[0;31m \u001b[0mstations\u001b[0m \u001b[0;34m=\u001b[0m \u001b[0mbart\u001b[0m\u001b[0;34m.\u001b[0m\u001b[0mstation_data\u001b[0m\u001b[0;34m(\u001b[0m\u001b[0;34m\"../data/stations.csv\"\u001b[0m\u001b[0;34m)\u001b[0m\u001b[0;34m\u001b[0m\u001b[0;34m\u001b[0m\u001b[0m\n\u001b[0m\u001b[1;32m      8\u001b[0m \u001b[0;34m\u001b[0m\u001b[0m\n\u001b[1;32m      9\u001b[0m \u001b[0mcodes\u001b[0m \u001b[0;34m=\u001b[0m \u001b[0mstations\u001b[0m\u001b[0;34m[\u001b[0m\u001b[0;34m'enter'\u001b[0m\u001b[0;34m]\u001b[0m\u001b[0;34m.\u001b[0m\u001b[0mto_list\u001b[0m\u001b[0;34m(\u001b[0m\u001b[0;34m)\u001b[0m\u001b[0;34m\u001b[0m\u001b[0;34m\u001b[0m\u001b[0m\n",
      "\u001b[0;32m~/Dropbox/projects/BART/analysis/BART.py\u001b[0m in \u001b[0;36mstation_data\u001b[0;34m(File, get_latlons)\u001b[0m\n\u001b[1;32m     77\u001b[0m \u001b[0;34m\u001b[0m\u001b[0m\n\u001b[1;32m     78\u001b[0m     \"\"\"\n\u001b[0;32m---> 79\u001b[0;31m     \u001b[0mstations\u001b[0m \u001b[0;34m=\u001b[0m \u001b[0mpd\u001b[0m\u001b[0;34m.\u001b[0m\u001b[0mread_csv\u001b[0m\u001b[0;34m(\u001b[0m\u001b[0mFile\u001b[0m\u001b[0;34m)\u001b[0m\u001b[0;34m\u001b[0m\u001b[0;34m\u001b[0m\u001b[0m\n\u001b[0m\u001b[1;32m     80\u001b[0m \u001b[0;34m\u001b[0m\u001b[0m\n\u001b[1;32m     81\u001b[0m     \u001b[0;31m#~ Get locations\u001b[0m\u001b[0;34m\u001b[0m\u001b[0;34m\u001b[0m\u001b[0;34m\u001b[0m\u001b[0m\n",
      "\u001b[0;31mNameError\u001b[0m: name 'FILE' is not defined"
     ]
    }
   ],
   "source": [
    "#~ Various clients                                                                    \n",
    "with open(\"../../../.mapbox_token\") as token: px.set_mapbox_access_token(token.read())\n",
    "gmaps = geo.gmapsClient()                                                             \n",
    "                                                                                      \n",
    "#~ Read & Prep Datasets                                                               \n",
    "B = bart.ride_data(\"../data/date-hour-soo-dest-2020.csv\")                                  \n",
    "stations = bart.station_data(\"../data/stations.csv\")                                       \n",
    "                                                                                      \n",
    "codes = stations['enter'].to_list()                                                   \n",
    "codes.remove(\"MLPT\")                                                                  \n",
    "                                                                                      \n",
    "fig = bart.stationMap()                                                                    \n",
    "fig.show()                                                                            "
   ]
  },
  {
   "cell_type": "code",
   "execution_count": 93,
   "metadata": {},
   "outputs": [],
   "source": [
    "#~ Imports & globals\n",
    "import numpy as np\n",
    "import pandas as pd\n",
    "import geocoding as geo\n",
    "\n",
    "import googlemaps\n",
    "import plotly.express as px\n",
    "import plotly.graph_objects as go\n",
    "from matplotlib import pyplot as plt\n",
    "\n",
    "def toInt(x):\n",
    "    try: return int(x)\n",
    "    except: return x\n",
    "\n",
    "def graph_javascript(graphdiv,graphjson,positiondiv):\n",
    "    \n",
    "    script_template = \"\"\"<style>\n",
    "        var graphDiv = document.getElementById('{positiondiv}');\n",
    "        var newGraph  = document.createElement('{graphdiv}');\n",
    "        graphDiv.parentNode.insertBefore(newGraph, graphDiv);\n",
    "\n",
    "            Plotly.d3.json(\"{graphjson}\", function(plotly_data) {\n",
    "            var config = {responsive: true}\n",
    "            Plotly.newPlot('{graphid}', plotly_data.data, plotly_data.layout, config ); })\n",
    "        </style>\n",
    "        \"\"\"\n",
    "    txt = script_template.format(graphdiv=graphdiv,graphjson=graphjson,positiondiv=positiondiv)\n",
    "    return txt\n",
    "\n",
    "def expressMap():\n",
    "    \"\"\"\n",
    "    from https://plotly.com/python/scattermapbox/\n",
    "    \"\"\"\n",
    "    df = px.data.carshare()\n",
    "    fig = px.scatter_mapbox(df, lat=\"centroid_lat\", lon=\"centroid_lon\",     color=\"peak_hour\", size=\"car_hours\",\n",
    "                    color_continuous_scale=px.colors.cyclical.IceFire, size_max=15, zoom=10)\n",
    "    return fig\n",
    "\n",
    "with open(\"../../../.mapbox_token\") as token: px.set_mapbox_access_token(token.read())"
   ]
  },
  {
   "cell_type": "code",
   "execution_count": 94,
   "metadata": {},
   "outputs": [],
   "source": [
    "def ride_data(File,columns=['date','hour','enter','exit','rides'],**kwargs):\n",
    "    \"\"\"\n",
    "    \n",
    "    \"\"\"\n",
    "    B = pd.read_csv(File,header=None,names=columns,**kwargs)\n",
    "    B['date'] += B['hour'].apply(lambda h: \" {:02d}:00:00\".format(h))\n",
    "    B['date'] = pd.to_datetime(B['date'])\n",
    "    B = B.drop('hour',axis=1).set_index(['date','enter','exit'])\n",
    "    B = B.unstack('exit').fillna(0)['rides']\n",
    "    \n",
    "    return B\n",
    "\n",
    "\n",
    "B = ride_data(\"../data/date-hour-soo-dest-2020.csv\")"
   ]
  },
  {
   "cell_type": "code",
   "execution_count": 64,
   "metadata": {},
   "outputs": [],
   "source": [
    "#fig,ax = plt.subplots()\n",
    "hours = B.sum(1).groupby(level='date').sum()"
   ]
  },
  {
   "cell_type": "code",
   "execution_count": null,
   "metadata": {},
   "outputs": [],
   "source": [
    "dates = B.index.getPlevel"
   ]
  },
  {
   "cell_type": "code",
   "execution_count": 104,
   "metadata": {},
   "outputs": [],
   "source": [
    "def station_locations(station_df,client):\n",
    "    \"\"\"\n",
    "    Get station latlons from Google API\n",
    "    \"\"\"\n",
    "    addresses = station_df['station']+\" BART Station, \" + station_df['location']+\", CA\"\n",
    "    codes = dict(zip(addresses, station_df['CODE']))\n",
    "\n",
    "    latlons = geo.geolocations(addresses, client)\n",
    "    result = {}\n",
    "    for address, loc in geo.ITEMS(latlons):\n",
    "        try: loc[0][0] #~ make sure it's the normal [(lat,lon)] format\n",
    "        except: loc = [loc] #~ Otherwise it's np.nan\n",
    "        result[codes[address]] = loc\n",
    "    return result"
   ]
  },
  {
   "cell_type": "code",
   "execution_count": 120,
   "metadata": {},
   "outputs": [],
   "source": [
    "df = px.data.carshare()"
   ]
  },
  {
   "cell_type": "code",
   "execution_count": 121,
   "metadata": {},
   "outputs": [
    {
     "data": {
      "text/html": [
       "<div>\n",
       "<style scoped>\n",
       "    .dataframe tbody tr th:only-of-type {\n",
       "        vertical-align: middle;\n",
       "    }\n",
       "\n",
       "    .dataframe tbody tr th {\n",
       "        vertical-align: top;\n",
       "    }\n",
       "\n",
       "    .dataframe thead th {\n",
       "        text-align: right;\n",
       "    }\n",
       "</style>\n",
       "<table border=\"1\" class=\"dataframe\">\n",
       "  <thead>\n",
       "    <tr style=\"text-align: right;\">\n",
       "      <th></th>\n",
       "      <th>centroid_lat</th>\n",
       "      <th>centroid_lon</th>\n",
       "      <th>car_hours</th>\n",
       "      <th>peak_hour</th>\n",
       "    </tr>\n",
       "  </thead>\n",
       "  <tbody>\n",
       "    <tr>\n",
       "      <th>0</th>\n",
       "      <td>45.471549</td>\n",
       "      <td>-73.588684</td>\n",
       "      <td>1772.750000</td>\n",
       "      <td>2</td>\n",
       "    </tr>\n",
       "    <tr>\n",
       "      <th>1</th>\n",
       "      <td>45.543865</td>\n",
       "      <td>-73.562456</td>\n",
       "      <td>986.333333</td>\n",
       "      <td>23</td>\n",
       "    </tr>\n",
       "    <tr>\n",
       "      <th>2</th>\n",
       "      <td>45.487640</td>\n",
       "      <td>-73.642767</td>\n",
       "      <td>354.750000</td>\n",
       "      <td>20</td>\n",
       "    </tr>\n",
       "    <tr>\n",
       "      <th>3</th>\n",
       "      <td>45.522870</td>\n",
       "      <td>-73.595677</td>\n",
       "      <td>560.166667</td>\n",
       "      <td>23</td>\n",
       "    </tr>\n",
       "    <tr>\n",
       "      <th>4</th>\n",
       "      <td>45.453971</td>\n",
       "      <td>-73.738946</td>\n",
       "      <td>2836.666667</td>\n",
       "      <td>19</td>\n",
       "    </tr>\n",
       "  </tbody>\n",
       "</table>\n",
       "</div>"
      ],
      "text/plain": [
       "   centroid_lat  centroid_lon    car_hours  peak_hour\n",
       "0     45.471549    -73.588684  1772.750000          2\n",
       "1     45.543865    -73.562456   986.333333         23\n",
       "2     45.487640    -73.642767   354.750000         20\n",
       "3     45.522870    -73.595677   560.166667         23\n",
       "4     45.453971    -73.738946  2836.666667         19"
      ]
     },
     "execution_count": 121,
     "metadata": {},
     "output_type": "execute_result"
    }
   ],
   "source": [
    "df.head()"
   ]
  },
  {
   "cell_type": "code",
   "execution_count": 128,
   "metadata": {
    "scrolled": false
   },
   "outputs": [
    {
     "name": "stderr",
     "output_type": "stream",
     "text": [
      "/home/elliott/anaconda3/lib/python3.7/site-packages/pandas/core/series.py:951: FutureWarning:\n",
      "\n",
      "\n",
      "Passing list-likes to .loc or [] with any missing label will raise\n",
      "KeyError in the future, you can use .reindex() as an alternative.\n",
      "\n",
      "See the documentation here:\n",
      "https://pandas.pydata.org/pandas-docs/stable/indexing.html#deprecate-loc-reindex-listlike\n",
      "\n"
     ]
    },
    {
     "ename": "ValueError",
     "evalue": "No axis named 1 for object type <class 'type'>",
     "output_type": "error",
     "traceback": [
      "\u001b[0;31m---------------------------------------------------------------------------\u001b[0m",
      "\u001b[0;31mValueError\u001b[0m                                Traceback (most recent call last)",
      "\u001b[0;32m<ipython-input-128-3b8f3a8e01ee>\u001b[0m in \u001b[0;36m<module>\u001b[0;34m\u001b[0m\n\u001b[1;32m      1\u001b[0m \u001b[0mcodes\u001b[0m \u001b[0;34m=\u001b[0m \u001b[0mstations\u001b[0m\u001b[0;34m[\u001b[0m\u001b[0;34m'CODE'\u001b[0m\u001b[0;34m]\u001b[0m\u001b[0;34m.\u001b[0m\u001b[0mto_list\u001b[0m\u001b[0;34m(\u001b[0m\u001b[0;34m)\u001b[0m\u001b[0;34m\u001b[0m\u001b[0;34m\u001b[0m\u001b[0m\n\u001b[1;32m      2\u001b[0m \u001b[0mcodes\u001b[0m\u001b[0;34m.\u001b[0m\u001b[0mremove\u001b[0m\u001b[0;34m(\u001b[0m\u001b[0;34m\"MLPT\"\u001b[0m\u001b[0;34m)\u001b[0m\u001b[0;34m\u001b[0m\u001b[0;34m\u001b[0m\u001b[0m\n\u001b[0;32m----> 3\u001b[0;31m \u001b[0mB\u001b[0m \u001b[0;34m=\u001b[0m \u001b[0mB\u001b[0m\u001b[0;34m[\u001b[0m\u001b[0mcodes\u001b[0m\u001b[0;34m]\u001b[0m\u001b[0;34m.\u001b[0m\u001b[0mgroupby\u001b[0m\u001b[0;34m(\u001b[0m\u001b[0mlevel\u001b[0m\u001b[0;34m=\u001b[0m\u001b[0;34m'enter'\u001b[0m\u001b[0;34m)\u001b[0m\u001b[0;34m.\u001b[0m\u001b[0msum\u001b[0m\u001b[0;34m(\u001b[0m\u001b[0;34m)\u001b[0m\u001b[0;34m.\u001b[0m\u001b[0msum\u001b[0m\u001b[0;34m(\u001b[0m\u001b[0;36m1\u001b[0m\u001b[0;34m)\u001b[0m\u001b[0;34m.\u001b[0m\u001b[0mto_frame\u001b[0m\u001b[0;34m(\u001b[0m\u001b[0;34m)\u001b[0m\u001b[0;34m\u001b[0m\u001b[0;34m\u001b[0m\u001b[0m\n\u001b[0m",
      "\u001b[0;32m~/anaconda3/lib/python3.7/site-packages/pandas/core/generic.py\u001b[0m in \u001b[0;36mstat_func\u001b[0;34m(self, axis, skipna, level, numeric_only, min_count, **kwargs)\u001b[0m\n\u001b[1;32m  10929\u001b[0m                                       skipna=skipna, min_count=min_count)\n\u001b[1;32m  10930\u001b[0m         return self._reduce(f, name, axis=axis, skipna=skipna,\n\u001b[0;32m> 10931\u001b[0;31m                             numeric_only=numeric_only, min_count=min_count)\n\u001b[0m\u001b[1;32m  10932\u001b[0m \u001b[0;34m\u001b[0m\u001b[0m\n\u001b[1;32m  10933\u001b[0m     \u001b[0;32mreturn\u001b[0m \u001b[0mset_function_name\u001b[0m\u001b[0;34m(\u001b[0m\u001b[0mstat_func\u001b[0m\u001b[0;34m,\u001b[0m \u001b[0mname\u001b[0m\u001b[0;34m,\u001b[0m \u001b[0mcls\u001b[0m\u001b[0;34m)\u001b[0m\u001b[0;34m\u001b[0m\u001b[0;34m\u001b[0m\u001b[0m\n",
      "\u001b[0;32m~/anaconda3/lib/python3.7/site-packages/pandas/core/series.py\u001b[0m in \u001b[0;36m_reduce\u001b[0;34m(self, op, name, axis, skipna, numeric_only, filter_type, **kwds)\u001b[0m\n\u001b[1;32m   3609\u001b[0m \u001b[0;34m\u001b[0m\u001b[0m\n\u001b[1;32m   3610\u001b[0m         \u001b[0;32mif\u001b[0m \u001b[0maxis\u001b[0m \u001b[0;32mis\u001b[0m \u001b[0;32mnot\u001b[0m \u001b[0;32mNone\u001b[0m\u001b[0;34m:\u001b[0m\u001b[0;34m\u001b[0m\u001b[0;34m\u001b[0m\u001b[0m\n\u001b[0;32m-> 3611\u001b[0;31m             \u001b[0mself\u001b[0m\u001b[0;34m.\u001b[0m\u001b[0m_get_axis_number\u001b[0m\u001b[0;34m(\u001b[0m\u001b[0maxis\u001b[0m\u001b[0;34m)\u001b[0m\u001b[0;34m\u001b[0m\u001b[0;34m\u001b[0m\u001b[0m\n\u001b[0m\u001b[1;32m   3612\u001b[0m \u001b[0;34m\u001b[0m\u001b[0m\n\u001b[1;32m   3613\u001b[0m         \u001b[0;32mif\u001b[0m \u001b[0misinstance\u001b[0m\u001b[0;34m(\u001b[0m\u001b[0mdelegate\u001b[0m\u001b[0;34m,\u001b[0m \u001b[0mCategorical\u001b[0m\u001b[0;34m)\u001b[0m\u001b[0;34m:\u001b[0m\u001b[0;34m\u001b[0m\u001b[0;34m\u001b[0m\u001b[0m\n",
      "\u001b[0;32m~/anaconda3/lib/python3.7/site-packages/pandas/core/generic.py\u001b[0m in \u001b[0;36m_get_axis_number\u001b[0;34m(cls, axis)\u001b[0m\n\u001b[1;32m    359\u001b[0m                 \u001b[0;32mpass\u001b[0m\u001b[0;34m\u001b[0m\u001b[0;34m\u001b[0m\u001b[0m\n\u001b[1;32m    360\u001b[0m         raise ValueError('No axis named {0} for object type {1}'\n\u001b[0;32m--> 361\u001b[0;31m                          .format(axis, type(cls)))\n\u001b[0m\u001b[1;32m    362\u001b[0m \u001b[0;34m\u001b[0m\u001b[0m\n\u001b[1;32m    363\u001b[0m     \u001b[0;34m@\u001b[0m\u001b[0mclassmethod\u001b[0m\u001b[0;34m\u001b[0m\u001b[0;34m\u001b[0m\u001b[0m\n",
      "\u001b[0;31mValueError\u001b[0m: No axis named 1 for object type <class 'type'>"
     ]
    }
   ],
   "source": [
    "codes = stations['CODE'].to_list()\n",
    "codes.remove(\"MLPT\")\n",
    "B = pd.DataFrame(B[codes].groupby(level='enter').sum().sum(1), columns=['rides'])"
   ]
  },
  {
   "cell_type": "code",
   "execution_count": 132,
   "metadata": {},
   "outputs": [
    {
     "data": {
      "text/html": [
       "<div>\n",
       "<style scoped>\n",
       "    .dataframe tbody tr th:only-of-type {\n",
       "        vertical-align: middle;\n",
       "    }\n",
       "\n",
       "    .dataframe tbody tr th {\n",
       "        vertical-align: top;\n",
       "    }\n",
       "\n",
       "    .dataframe thead th {\n",
       "        text-align: right;\n",
       "    }\n",
       "</style>\n",
       "<table border=\"1\" class=\"dataframe\">\n",
       "  <thead>\n",
       "    <tr style=\"text-align: right;\">\n",
       "      <th></th>\n",
       "      <th>CODE</th>\n",
       "      <th>rides2020</th>\n",
       "      <th>station</th>\n",
       "      <th>location</th>\n",
       "      <th>opened</th>\n",
       "      <th>ridership</th>\n",
       "      <th>parking</th>\n",
       "    </tr>\n",
       "  </thead>\n",
       "  <tbody>\n",
       "    <tr>\n",
       "      <th>0</th>\n",
       "      <td>12TH</td>\n",
       "      <td>740363</td>\n",
       "      <td>12th Street Oakland City Center</td>\n",
       "      <td>Oakland</td>\n",
       "      <td>1972-9-11</td>\n",
       "      <td>14018</td>\n",
       "      <td>0</td>\n",
       "    </tr>\n",
       "    <tr>\n",
       "      <th>1</th>\n",
       "      <td>16TH</td>\n",
       "      <td>751539</td>\n",
       "      <td>16th Street Mission</td>\n",
       "      <td>San Francisco</td>\n",
       "      <td>1973-11-5</td>\n",
       "      <td>12478</td>\n",
       "      <td>0</td>\n",
       "    </tr>\n",
       "    <tr>\n",
       "      <th>2</th>\n",
       "      <td>19TH</td>\n",
       "      <td>760208</td>\n",
       "      <td>19th Street Oakland</td>\n",
       "      <td>Oakland</td>\n",
       "      <td>1972-9-11</td>\n",
       "      <td>13202</td>\n",
       "      <td>0</td>\n",
       "    </tr>\n",
       "    <tr>\n",
       "      <th>3</th>\n",
       "      <td>24TH</td>\n",
       "      <td>721254</td>\n",
       "      <td>24th Street Mission</td>\n",
       "      <td>San Francisco</td>\n",
       "      <td>1973-11-5</td>\n",
       "      <td>11888</td>\n",
       "      <td>0</td>\n",
       "    </tr>\n",
       "    <tr>\n",
       "      <th>4</th>\n",
       "      <td>ANTC</td>\n",
       "      <td>178224</td>\n",
       "      <td>Antioch</td>\n",
       "      <td>Antioch</td>\n",
       "      <td>2018-5-26</td>\n",
       "      <td>2898</td>\n",
       "      <td>1012</td>\n",
       "    </tr>\n",
       "  </tbody>\n",
       "</table>\n",
       "</div>"
      ],
      "text/plain": [
       "   CODE  rides2020                          station       location     opened  \\\n",
       "0  12TH     740363  12th Street Oakland City Center        Oakland  1972-9-11   \n",
       "1  16TH     751539              16th Street Mission  San Francisco  1973-11-5   \n",
       "2  19TH     760208              19th Street Oakland        Oakland  1972-9-11   \n",
       "3  24TH     721254              24th Street Mission  San Francisco  1973-11-5   \n",
       "4  ANTC     178224                          Antioch        Antioch  2018-5-26   \n",
       "\n",
       "   ridership  parking  \n",
       "0      14018        0  \n",
       "1      12478        0  \n",
       "2      13202        0  \n",
       "3      11888        0  \n",
       "4       2898     1012  "
      ]
     },
     "execution_count": 132,
     "metadata": {},
     "output_type": "execute_result"
    }
   ],
   "source": [
    "stations.head()"
   ]
  }
 ],
 "metadata": {
  "kernelspec": {
   "display_name": "Python 3",
   "language": "python",
   "name": "python3"
  },
  "language_info": {
   "codemirror_mode": {
    "name": "ipython",
    "version": 3
   },
   "file_extension": ".py",
   "mimetype": "text/x-python",
   "name": "python",
   "nbconvert_exporter": "python",
   "pygments_lexer": "ipython3",
   "version": "3.7.6"
  }
 },
 "nbformat": 4,
 "nbformat_minor": 2
}
